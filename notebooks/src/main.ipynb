{
  "metadata": {
    "kernelspec": {
      "name": "python",
      "display_name": "Python (Pyodide)",
      "language": "python"
    },
    "language_info": {
      "codemirror_mode": {
        "name": "python",
        "version": 3
      },
      "file_extension": ".py",
      "mimetype": "text/x-python",
      "name": "python",
      "nbconvert_exporter": "python",
      "pygments_lexer": "ipython3",
      "version": "3.8"
    }
  },
  "nbformat_minor": 4,
  "nbformat": 4,
  "cells": [
    {
      "cell_type": "markdown",
      "source": "### Setting up the environment",
      "metadata": {}
    },
    {
      "cell_type": "code",
      "source": "%pip install nbformat\n%pip install requests\n%pip install configparser\n%pip install ipywidgets\n%pip install pandas\n%pip install matplotlib",
      "metadata": {
        "trusted": true
      },
      "outputs": [],
      "execution_count": null
    },
    {
      "cell_type": "code",
      "source": "%run ./helpers.ipynb\n%run ./analytics.ipynb\n%run ./pipeline.ipynb",
      "metadata": {
        "trusted": true
      },
      "outputs": [],
      "execution_count": null
    },
    {
      "cell_type": "code",
      "source": "import ipywidgets as widgets\nfrom IPython.display import display",
      "metadata": {
        "trusted": true
      },
      "outputs": [],
      "execution_count": null
    },
    {
      "cell_type": "markdown",
      "source": "### Main code block to run the pipeline",
      "metadata": {}
    },
    {
      "cell_type": "code",
      "source": "# Initialize the logger\nlogger = get_logger()\n\n# Here is where the pipeline runs & ingest data into Raw, Structured & Curated layers\ntry:\n    logger.info('Starting the app!')\n\n    # Load configs\n    config = load_config('../../conf/config.ini')\n\n    # Check if a Structured re=build is required before running the pipeline\n    if (dict(config.items('arguments'))['rebuild'].lower() == 'true'):\n        logger.info('Rebuild has started!')\n        rebuild_structured_and_curated()\n\n    # Run the ingestion pipeline\n    logger.info('Starting ingestion pipeline!')\n    run_pipeline(build_endpoint(config))\n\n    logger.info('Pipeline has run successfully!')\nexcept Exception as e:\n    logger.exception(f'Something has gone wrong {e}')",
      "metadata": {
        "trusted": true
      },
      "outputs": [],
      "execution_count": null
    },
    {
      "cell_type": "markdown",
      "source": "### Analytics Section",
      "metadata": {}
    },
    {
      "cell_type": "code",
      "source": "try:\n    # Get the structured_rates dataset\n    structured_path = '../../data/structured/structured_rates.json'\n    if os.path.exists(structured_path):\n        with open(structured_path, 'r') as file:\n            data = json.load(file)\n    \n    rates_df = pd.DataFrame(data)\n    \n    # Get the summary_rates dataset\n    curated_path = '../../data/curated/summary_rates.json'\n    if os.path.exists(curated_path):\n        with open(curated_path, 'r') as file:\n            data = json.load(file)\n    \n    stats_df = pd.DataFrame(data)\nexcept Exception as e:\n    logger.exception(f'Something has gone wrong {e}')",
      "metadata": {
        "trusted": true
      },
      "outputs": [],
      "execution_count": null
    },
    {
      "cell_type": "code",
      "source": "# Get a list of currency symbols from config file\nsymbols = ['All Currencies'] + dict(config.items('arguments'))['symbols'].split(',')\n\n# Create interactive widget for selecting symbol\nsymbol_widget = widgets.Dropdown(\n    options=symbols,\n    description='Currency:'\n)\n\n# Define function to update plot based on selected symbol\ndef update_plot(symbol):\n    df = summarize_exchange_rates(stats_df, symbol if symbol != 'All Currencies' else None)\n    display(df)\n\n    graph_exchange_rate_over_time(rates_df, symbol if symbol != 'All Currencies' else None)",
      "metadata": {
        "trusted": true
      },
      "outputs": [],
      "execution_count": null
    },
    {
      "cell_type": "code",
      "source": "# Display the interactive widget\nwidgets.interact(update_plot, symbol=symbol_widget);",
      "metadata": {
        "trusted": true
      },
      "outputs": [],
      "execution_count": null
    },
    {
      "cell_type": "code",
      "source": "graph_summary_exchange_by_currency(stats_df)",
      "metadata": {
        "trusted": true
      },
      "outputs": [],
      "execution_count": null
    }
  ]
}