{
  "metadata": {
    "kernelspec": {
      "name": "python",
      "display_name": "Python (Pyodide)",
      "language": "python"
    },
    "language_info": {
      "codemirror_mode": {
        "name": "python",
        "version": 3
      },
      "file_extension": ".py",
      "mimetype": "text/x-python",
      "name": "python",
      "nbconvert_exporter": "python",
      "pygments_lexer": "ipython3",
      "version": "3.8"
    }
  },
  "nbformat_minor": 4,
  "nbformat": 4,
  "cells": [
    {
      "cell_type": "code",
      "source": "%pip install nbformat\n%pip install requests\n%pip install configparser\n%pip install ipywidgets\n%pip install pandas\n%pip install matplotlib",
      "metadata": {
        "trusted": true
      },
      "outputs": [],
      "execution_count": null
    },
    {
      "cell_type": "code",
      "source": "%run ./helpers.ipynb\n%run ./analytics.ipynb\n%run ./pipeline.ipynb",
      "metadata": {
        "trusted": true
      },
      "outputs": [],
      "execution_count": null
    },
    {
      "cell_type": "code",
      "source": "import ipywidgets as widgets\nfrom IPython.display import display",
      "metadata": {
        "trusted": true
      },
      "outputs": [],
      "execution_count": null
    },
    {
      "cell_type": "code",
      "source": "# Initialize the logger\nlogger = get_logger()\n\n# Load configs\nconfig = load_config('../../conf/config.ini')\n\n# Get a list of currency symbols from config file\nsymbols = ['All Currencies'] + dict(config.items('arguments'))['symbols'].split(',')",
      "metadata": {
        "trusted": true
      },
      "outputs": [],
      "execution_count": null
    },
    {
      "cell_type": "code",
      "source": "try:\n    logger.info('Starting the ingestion pipeline')\n    x = 1/0\n    run_pipeline(build_endpoint(config))\nexcept Exception as e:\n    logger.exception(f'Something has gone wrong {e}')\n\n\n# Get the structured_rates dataset\nstructured_path = '../../data/structured/structured_rates.json'\nif os.path.exists(structured_path):\n    with open(structured_path, 'r') as file:\n        data = json.load(file)\n\nrates_df = pd.DataFrame(data)\n\n# Get the summary_rates dataset\ncurated_path = '../../data/curated/summary_rates.json'\nif os.path.exists(curated_path):\n    with open(curated_path, 'r') as file:\n        data = json.load(file)\n\nstats_df = pd.DataFrame(data)",
      "metadata": {
        "trusted": true
      },
      "outputs": [],
      "execution_count": null
    },
    {
      "cell_type": "code",
      "source": "# Create interactive widget for selecting symbol\nsymbol_widget = widgets.Dropdown(\n    options=symbols,\n    description='Currency:'\n)\n\n# Define function to update plot based on selected symbol\ndef update_plot(symbol):\n    df = summarize_exchange_rates(stats_df, symbol if symbol != 'All Currencies' else None)\n    display(df)\n\n    graph_exchange_rate_over_time(rates_df, symbol if symbol != 'All Currencies' else None)",
      "metadata": {
        "trusted": true
      },
      "outputs": [],
      "execution_count": null
    },
    {
      "cell_type": "code",
      "source": "# Display the interactive widget\nwidgets.interact(update_plot, symbol=symbol_widget);",
      "metadata": {
        "trusted": true
      },
      "outputs": [],
      "execution_count": null
    },
    {
      "cell_type": "code",
      "source": "graph_summary_exchange_by_currency(stats_df)",
      "metadata": {
        "trusted": true
      },
      "outputs": [],
      "execution_count": null
    }
  ]
}