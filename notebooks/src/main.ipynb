{
  "metadata": {
    "kernelspec": {
      "name": "python",
      "display_name": "Python (Pyodide)",
      "language": "python"
    },
    "language_info": {
      "codemirror_mode": {
        "name": "python",
        "version": 3
      },
      "file_extension": ".py",
      "mimetype": "text/x-python",
      "name": "python",
      "nbconvert_exporter": "python",
      "pygments_lexer": "ipython3",
      "version": "3.8"
    }
  },
  "nbformat_minor": 4,
  "nbformat": 4,
  "cells": [
    {
      "cell_type": "code",
      "source": "%pip install nbformat\n%pip install requests\n%pip install configparser\n%pip install ipywidgets\n%pip install pandas\n%pip install matplotlib",
      "metadata": {
        "trusted": true
      },
      "outputs": [],
      "execution_count": 1
    },
    {
      "cell_type": "code",
      "source": "%run ./helpers.ipynb\n%run ./analytics.ipynb",
      "metadata": {
        "trusted": true
      },
      "outputs": [],
      "execution_count": 2
    },
    {
      "cell_type": "code",
      "source": "import ipywidgets as widgets\nfrom IPython.display import display",
      "metadata": {
        "trusted": true
      },
      "outputs": [],
      "execution_count": 3
    },
    {
      "cell_type": "code",
      "source": "# Difine some widgets to show config values\nhost = widgets.Text(description='Host:', value='', disabled=True)\nkey = widgets.Text(description='Access Key:', value='', disabled=True)\nsym = widgets.Text(description='Symbols:', value='', disabled=True)\n\n# Display the widgets\ndisplay(host, key, sym)",
      "metadata": {
        "trusted": true
      },
      "outputs": [
        {
          "output_type": "display_data",
          "data": {
            "text/plain": "Text(value='', description='Host:', disabled=True)",
            "application/vnd.jupyter.widget-view+json": {
              "version_major": 2,
              "version_minor": 0,
              "model_id": "d883e317ed614e0cb80df90097a0fecd"
            }
          },
          "metadata": {}
        },
        {
          "output_type": "display_data",
          "data": {
            "text/plain": "Text(value='', description='Access Key:', disabled=True)",
            "application/vnd.jupyter.widget-view+json": {
              "version_major": 2,
              "version_minor": 0,
              "model_id": "f4eac74849c040b08403ae479673d1ff"
            }
          },
          "metadata": {}
        },
        {
          "output_type": "display_data",
          "data": {
            "text/plain": "Text(value='', description='Symbols:', disabled=True)",
            "application/vnd.jupyter.widget-view+json": {
              "version_major": 2,
              "version_minor": 0,
              "model_id": "367513be7bd44684bd3b8d70b461c3a7"
            }
          },
          "metadata": {}
        }
      ],
      "execution_count": 4
    },
    {
      "cell_type": "code",
      "source": "# Initialize the logger\nlogger = get_logger()\n\n# Load configs\nconfig = load_config('../../conf/config.ini')\n\n# Get a list of currency symbols from config file\nsymbols = ['All Currencies'] + dict(config.items('arguments'))['symbols'].split(',')\n\n# Populate the widgets with host & access key info\nhost.value = dict(config.items('arguments'))['endpoint']\nkey.value = dict(config.items('arguments'))['access_key']\nsym.value = dict(config.items('arguments'))['symbols']\n\n# Get the data from endpoint\ndata = get_data(build_endpoint(config))\n\n# Create the rates dataframe\nrates_df = get_rates_dataframe(data)",
      "metadata": {
        "trusted": true
      },
      "outputs": [],
      "execution_count": 6
    },
    {
      "cell_type": "code",
      "source": "# Create interactive widget for selecting symbol\nsymbol_widget = widgets.Dropdown(\n    options=symbols,\n    description='Currency:'\n)\n\n# Define function to update plot based on selected symbol\ndef update_plot(symbol):\n    stats_df = summarize_exchange_rates(rates_df, symbol if symbol != 'All Currencies' else None)\n    display(stats_df)\n\n    graph_exchange_rate_over_time(rates_df, symbol if symbol != 'All Currencies' else None)",
      "metadata": {
        "trusted": true
      },
      "outputs": [],
      "execution_count": 7
    },
    {
      "cell_type": "code",
      "source": "# Display the interactive widget\nwidgets.interact(update_plot, symbol=symbol_widget);",
      "metadata": {
        "trusted": true
      },
      "outputs": [
        {
          "output_type": "display_data",
          "data": {
            "text/plain": "interactive(children=(Dropdown(description='Currency:', options=('All Currencies', 'NZD', 'USD', 'GBP', 'EUR',…",
            "application/vnd.jupyter.widget-view+json": {
              "version_major": 2,
              "version_minor": 0,
              "model_id": "9e34f8c351f14138bbfab708b00688b0"
            }
          },
          "metadata": {}
        }
      ],
      "execution_count": 8
    },
    {
      "cell_type": "code",
      "source": "graph_summary_exchange_by_currency(stats_df)",
      "metadata": {
        "trusted": true
      },
      "outputs": [
        {
          "ename": "<class 'NameError'>",
          "evalue": "name 'stats_df' is not defined",
          "traceback": [
            "\u001b[0;31m---------------------------------------------------------------------------\u001b[0m",
            "\u001b[0;31mNameError\u001b[0m                                 Traceback (most recent call last)",
            "Cell \u001b[0;32mIn[9], line 1\u001b[0m\n\u001b[0;32m----> 1\u001b[0m graph_summary_exchange_by_currency(\u001b[43mstats_df\u001b[49m)\n",
            "\u001b[0;31mNameError\u001b[0m: name 'stats_df' is not defined"
          ],
          "output_type": "error"
        }
      ],
      "execution_count": 9
    }
  ]
}