{
  "metadata": {
    "kernelspec": {
      "name": "python",
      "display_name": "Python (Pyodide)",
      "language": "python"
    },
    "language_info": {
      "codemirror_mode": {
        "name": "python",
        "version": 3
      },
      "file_extension": ".py",
      "mimetype": "text/x-python",
      "name": "python",
      "nbconvert_exporter": "python",
      "pygments_lexer": "ipython3",
      "version": "3.8"
    }
  },
  "nbformat_minor": 4,
  "nbformat": 4,
  "cells": [
    {
      "cell_type": "code",
      "source": "import requests\nimport logging.config\nimport configparser\nimport warnings\nfrom datetime import datetime, timedelta",
      "metadata": {
        "trusted": true
      },
      "outputs": [],
      "execution_count": 1
    },
    {
      "cell_type": "code",
      "source": "def get_logger():\n    \"\"\"\n    Initializes a logger object based on specified configurations.\n\n    Returns:\n    logging.Logger: A logger object.\n    \"\"\"\n    logging.config.fileConfig('../conf/logging.conf')\n    logger = logging.getLogger('exchangerates')\n    return logger",
      "metadata": {
        "trusted": true
      },
      "outputs": [],
      "execution_count": 2
    },
    {
      "cell_type": "code",
      "source": "def load_config(path):\n    \"\"\"\n    Loads application configuration file.\n\n    Parameters:\n    path (str): Path to the configuration file.\n\n    Returns:\n    configparser.ConfigParser: An object of type ConfigParser.\n    \"\"\"\n    config = configparser.ConfigParser()\n    config.read(path)\n    return config",
      "metadata": {
        "trusted": true
      },
      "outputs": [],
      "execution_count": 3
    },
    {
      "cell_type": "code",
      "source": "def get_data(url):\n    \"\"\"\n    Fetches data from a specified endpoint into json format.\n\n    Parameters:\n    url (str): The URL endpoint to fetch data from.\n\n    Returns:\n    dict: The JSON data fetched from the endpoint.\n    \"\"\"\n    # Suppress InsecureRequestWarning\n    warnings.filterwarnings(\"ignore\", category=requests.packages.urllib3.exceptions.InsecureRequestWarning)\n\n    response = requests.get(url, timeout=15, verify=True)\n    response.raise_for_status()\n    return response.json()",
      "metadata": {
        "trusted": true
      },
      "outputs": [],
      "execution_count": 4
    },
    {
      "cell_type": "code",
      "source": "def get_rates_dataframe(data):\n    \"\"\"\n    Converts a nested dictionary of exchange rates into a pandas DataFrame.\n\n    Parameters:\n    data (dict): A dictionary containing exchange rate data in a nested format.\n\n    Returns:\n    pd.DataFrame: A DataFrame containing exchange rate data with columns for Date, Currency, and Rate.\n    \"\"\"\n    flat_rates = [(date, currency, rate) for date, currencies in data['rates'].items() for currency, rate in currencies.items()]\n    df = pd.DataFrame(flat_rates, columns=['Date', 'Currency', 'Rate'])\n    return df",
      "metadata": {
        "trusted": true
      },
      "outputs": [],
      "execution_count": 5
    },
    {
      "cell_type": "code",
      "source": "def get_start_date(date_threshold):\n    \"\"\"\n    Calculates a date based on the date threshold value.\n\n    Parameters:\n    date_threshold (int): Number of days to deduct from the current date.\n\n    Returns:\n    datetime.date: A date object.\n    \"\"\"\n    return datetime.now().date() - timedelta(days=date_threshold)",
      "metadata": {
        "trusted": true
      },
      "outputs": [],
      "execution_count": 6
    },
    {
      "cell_type": "code",
      "source": "def build_endpoint(config):\n    \"\"\"\n    Builds an endpoint based on values in the configuration file.\n\n    Parameters:\n    config (ConfigParser): Configuration object.\n\n    Returns:\n    str: A complete endpoint.\n    \"\"\"\n    section = dict(config.items('arguments'))\n\n    url = section['endpoint']\n    access_key = section['access_key']\n    start_date = get_start_date(int(section['date_threshold']))\n    end_date = datetime.now().date()\n    base_currency = section['base_currency']\n    symbols = section['symbols']\n\n    return f\"{url}?access_key={access_key}&start_date={start_date}&end_date={end_date}&base={base_currency}&symbols={symbols}\"",
      "metadata": {
        "trusted": true
      },
      "outputs": [],
      "execution_count": 7
    }
  ]
}