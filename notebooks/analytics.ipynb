{
  "metadata": {
    "kernelspec": {
      "name": "python",
      "display_name": "Python (Pyodide)",
      "language": "python"
    },
    "language_info": {
      "codemirror_mode": {
        "name": "python",
        "version": 3
      },
      "file_extension": ".py",
      "mimetype": "text/x-python",
      "name": "python",
      "nbconvert_exporter": "python",
      "pygments_lexer": "ipython3",
      "version": "3.8"
    }
  },
  "nbformat_minor": 4,
  "nbformat": 4,
  "cells": [
    {
      "cell_type": "code",
      "source": "import sys\nimport pandas as pd\nimport matplotlib.pyplot as plt",
      "metadata": {
        "trusted": true
      },
      "outputs": [],
      "execution_count": 1
    },
    {
      "cell_type": "code",
      "source": "def summarize_exchange_rates(df, symbol=None):\n    \"\"\"\n    Analyzes exchange rates data and computes statistics.\n\n    Parameters:\n    config (ConfigParser): Configuration object.\n\n    Returns:\n    pd.DataFrame: DataFrame containing exchange rates statistics.\n    \"\"\"\n    if symbol != None:\n        df = df[df['Currency'] == symbol]\n    \n    statistics = df.groupby(['Currency']).agg(\n        mean_rate=('Rate', 'mean'),\n        worst_rate=('Rate', 'min'),\n        best_rate=('Rate', 'max')\n    )\n\n    return statistics",
      "metadata": {
        "trusted": true
      },
      "outputs": [],
      "execution_count": 5
    },
    {
      "cell_type": "code",
      "source": "def graph_exchange_rate_over_time(df, symbol=None):\n    \"\"\"\n    \n    Generate a line chart showing exchange rates over time for different currencies.\n\n    Parameters:\n    - df (DataFrame): A pandas DataFrame containing exchange rate data with columns 'Date', 'Currency', and 'Rate'.\n    - symbol: A single currency code\n\n    Returns:\n    - None\n    \"\"\"\n    # Convert 'Date' column to datetime\n    df['Date'] = pd.to_datetime(df['Date'])\n\n    # Filter dataframe based on selected currency\n    if symbol != None:\n        df = df[df['Currency'] == symbol]\n    \n    # Pivot the DataFrame to have 'Currency' as columns and 'Date' as index\n    pivot_df = df.pivot(index='Date', columns='Currency', values='Rate')\n    \n    # Plot the data\n    pivot_df.plot(figsize=(10, 6))\n    plt.title('Exchange Rates Over Time')\n    plt.xlabel('Date')\n    plt.ylabel('Exchange Rate')\n    plt.grid(True)\n    plt.legend(title='Currency')\n    plt.show()",
      "metadata": {
        "trusted": true
      },
      "outputs": [],
      "execution_count": 6
    },
    {
      "cell_type": "code",
      "source": "def graph_summary_exchange_by_currency(df):\n    \"\"\"\n    \n    Generate a bar chart showing the mean, worst, and best exchange rates for each currency.\n\n    Parameters:\n    - df (DataFrame): A pandas DataFrame containing mean, worst, and best exchange rate data for each currency.\n\n    Returns:\n    - None\n    \"\"\"\n    currencies = list(df['mean_rate'].keys())\n    mean_rates = [value for currency, value in df['mean_rate'].items()]\n    worst_rates = [value for currency, value in df['worst_rate'].items()]\n    best_rates = [value for currency, value in df['best_rate'].items()]\n    \n    # Set up the figure and axis\n    fig, ax = plt.subplots(figsize=(10, 6))\n    \n    # Plotting the mean exchange rates\n    ax.bar(currencies, mean_rates, color='skyblue', label='Mean')\n\n    # Plot worst values\n    ax.scatter(currencies, worst_rates, color='r', marker='x', label='Worst')\n    \n    # Plot best values\n    ax.scatter(currencies, best_rates, color='g', marker='^', label='Best')\n    \n    # Adding labels and title\n    ax.set_xlabel('Currency')\n    ax.set_ylabel('Exchange Rate')\n    ax.set_title('Mean, Worst, and Best Exchange Rates by Currency')\n    ax.legend()\n    \n    # Rotating x-axis labels for better readability\n    plt.xticks(rotation=45)\n    \n    # Show plot\n    plt.tight_layout()\n    plt.show()",
      "metadata": {
        "trusted": true
      },
      "outputs": [],
      "execution_count": 4
    }
  ]
}