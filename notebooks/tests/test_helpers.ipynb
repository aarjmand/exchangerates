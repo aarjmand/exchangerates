{
  "metadata": {
    "kernelspec": {
      "name": "python",
      "display_name": "Python (Pyodide)",
      "language": "python"
    },
    "language_info": {
      "codemirror_mode": {
        "name": "python",
        "version": 3
      },
      "file_extension": ".py",
      "mimetype": "text/x-python",
      "name": "python",
      "nbconvert_exporter": "python",
      "pygments_lexer": "ipython3",
      "version": "3.8"
    }
  },
  "nbformat_minor": 4,
  "nbformat": 4,
  "cells": [
    {
      "cell_type": "code",
      "source": "%pip install nbformat\n%pip install requests\n%pip install configparser\n%pip install ipywidgets\n%pip install pandas\n%pip install matplotlib",
      "metadata": {
        "trusted": true
      },
      "outputs": [],
      "execution_count": 1
    },
    {
      "cell_type": "code",
      "source": "%run ../src/helpers.ipynb",
      "metadata": {
        "trusted": true
      },
      "outputs": [],
      "execution_count": 2
    },
    {
      "cell_type": "code",
      "source": "import unittest\nfrom unittest.mock import MagicMock\nfrom datetime import datetime, timedelta\nfrom configparser import ConfigParser\nimport pandas as pd",
      "metadata": {
        "trusted": true
      },
      "outputs": [],
      "execution_count": 12
    },
    {
      "cell_type": "code",
      "source": "class TestHelpers(unittest.TestCase):\n    def test_get_rates_dataframe(self):\n        \"\"\"\n        Compares the test datafram with the expected results returnd by `get_rates_dataframe` function.\n        \n        - Setup: Defines a sample input data dictionary containing exchange rate information.    \n        - Expected Result: Constructs the expected output DataFrame based on the sample data provided.\n        - Function Execution: Calls the `get_rates_dataframe` function with the sample data.\n        - Assertion: Checks whether the generated DataFrame matches the expected DataFrame.\n        \"\"\"\n\n        # Sample input data\n        sample_data = {\n            \"success\": True,\n            \"timeseries\": True,\n            \"start_date\": \"2024-02-20\",\n            \"end_date\": \"2024-03-21\",\n            \"base\": \"AUD\",\n            \"rates\": {\n                \"2024-02-20\": {\"NZD\": 1.062553, \"GBP\": 0.519046},\n                \"2024-02-21\": {\"NZD\": 1.060413, \"GBP\": 0.518546}\n            },\n            \"extract_time\": 171120055.4,\n            \"source\": \"exchange rates api\"\n        }\n    \n        # Expected output DataFrame\n        expected_df = pd.DataFrame([\n            (\"2024-02-20\", \"NZD\", 1.062553),\n            (\"2024-02-20\", \"GBP\", 0.519046),\n            (\"2024-02-21\", \"NZD\", 1.060413),\n            (\"2024-02-21\", \"GBP\", 0.518546)\n        ], columns=['date', 'currency', 'rate'])\n    \n        # Call the function with sample data\n        result_df = get_rates_dataframe(sample_data)\n    \n        # Check if the result matches the expected output\n        self.assertTrue(expected_df.equals(result_df))\n\n    def test_get_start_date(self):\n        \"\"\"\n        Compares a generated date with the actual expected date from `get_start_date` function.\n        \n        - Setup: Sets up a test case where `date_threshold` is set to 30 days.  \n        - Expected Result: Calculates the expected date by subtracting 30 days from the current date.\n        - Function Execution: Calls the `get_start_date` function with the `date_threshold` value of 30 days.      \n        - Assertion: Compares the result date returned by the `get_start_date` function with the expected date.\n        \"\"\"\n\n        # Test case 2: date_threshold = 30\n        date_threshold = 30\n        expected_date = datetime.now().date() - timedelta(days=date_threshold)\n        result_date = get_start_date(date_threshold)\n        self.assertEqual(result_date, expected_date)\n\n    def test_build_endpoint(self):\n        \"\"\"\n        Compares a generated endpoint string with the actual expected string returned from `build_endpoint` function.\n        \n        - Setup: Sets up mock configuration values using the `ConfigParser` object to simulate the configuration file.    \n        - Expected Result: Defines a mock function `mock_get_start_date` to simulate the behavior of the `get_start_date` function.     \n        - Function Execution: Calls the `build_endpoint` function with the mock configuration.\n        - Assertion: Compares the constructed endpoint returned by the `build_endpoint` function with the expected endpoint.\n        \"\"\"\n\n        # Mock configuration values\n        config = ConfigParser()\n        config['arguments'] = {\n            'endpoint': 'https://api.exchangeratesapi.io/v1/timeseries',\n            'access_key': 'xxxx',\n            'date_threshold': '30',\n            'base_currency': 'AUD',\n            'symbols': 'NZD'\n        }\n\n        # Mock get_start_date function\n        def mock_get_start_date(date_threshold):\n            return (datetime.now() - timedelta(days=date_threshold)).date()\n        \n        # Patching the get_start_date function\n        with unittest.mock.patch('__main__.get_start_date', side_effect=mock_get_start_date):\n            # Call the build_endpoint function with mock configuration\n            endpoint = build_endpoint(config)\n        \n        # Assert that the constructed endpoint matches the expected value\n        expected_endpoint = \"https://api.exchangeratesapi.io/v1/timeseries?access_key=xxxx&start_date=2024-02-23&end_date=2024-03-24&base=AUD&symbols=NZD\"\n        self.assertEqual(endpoint, expected_endpoint)",
      "metadata": {
        "trusted": true
      },
      "outputs": [],
      "execution_count": 19
    },
    {
      "cell_type": "code",
      "source": "unittest.main()",
      "metadata": {
        "trusted": true
      },
      "outputs": [
        {
          "name": "stderr",
          "text": "...\n----------------------------------------------------------------------\nRan 3 tests in 0.003s\n\nOK\n/lib/python3.11/site-packages/IPython/core/interactiveshell.py:3585: UserWarning: To exit: use 'exit', 'quit', or Ctrl-D.\n  warn(\"To exit: use 'exit', 'quit', or Ctrl-D.\", stacklevel=1)\n",
          "output_type": "stream"
        },
        {
          "ename": "<class 'SystemExit'>",
          "evalue": "False",
          "traceback": [
            "An exception has occurred, use %tb to see the full traceback.\n",
            "\u001b[0;31mSystemExit\u001b[0m\u001b[0;31m:\u001b[0m False\n"
          ],
          "output_type": "error"
        }
      ],
      "execution_count": 20
    },
    {
      "cell_type": "code",
      "source": "",
      "metadata": {
        "trusted": true
      },
      "outputs": [],
      "execution_count": null
    }
  ]
}